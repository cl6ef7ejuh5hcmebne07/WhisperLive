{
 "cells": [
  {
   "cell_type": "code",
   "execution_count": 1,
   "id": "b2f3b327-e9d4-4f09-a63d-cbd1fcf6a8f6",
   "metadata": {},
   "outputs": [
    {
     "name": "stdout",
     "output_type": "stream",
     "text": [
      "fatal: destination path 'WhisperLive' already exists and is not an empty directory.\n"
     ]
    }
   ],
   "source": [
    "! git clone https://github.com/cl6ef7ejuh5hcmebne07/WhisperLive.git"
   ]
  },
  {
   "cell_type": "code",
   "execution_count": 2,
   "id": "3e835c13-09c3-4c11-9958-5cd1a7037e74",
   "metadata": {},
   "outputs": [
    {
     "name": "stdout",
     "output_type": "stream",
     "text": [
      "Get:1 http://security.ubuntu.com/ubuntu jammy-security InRelease [129 kB]\n",
      "Get:2 http://archive.ubuntu.com/ubuntu jammy InRelease [270 kB]\n",
      "Get:3 http://archive.ubuntu.com/ubuntu jammy-updates InRelease [128 kB][33m\u001b[33m\n",
      "Get:4 http://security.ubuntu.com/ubuntu jammy-security/universe amd64 Packages [1090 kB]\n",
      "Get:5 http://archive.ubuntu.com/ubuntu jammy-backports InRelease [127 kB]\n",
      "Get:6 http://archive.ubuntu.com/ubuntu jammy/main amd64 Packages [1792 kB]3m\n",
      "Get:7 http://security.ubuntu.com/ubuntu jammy-security/multiverse amd64 Packages [44.7 kB]\n",
      "Get:8 http://security.ubuntu.com/ubuntu jammy-security/main amd64 Packages [1910 kB][33m\n",
      "Get:9 http://archive.ubuntu.com/ubuntu jammy/universe amd64 Packages [17.5 MB] \u001b[0m\u001b[33m\u001b[33m\n",
      "Get:10 http://security.ubuntu.com/ubuntu jammy-security/restricted amd64 Packages [2469 kB]\n",
      "Get:11 http://archive.ubuntu.com/ubuntu jammy/multiverse amd64 Packages [266 kB][0m\u001b[33m\u001b[33m\u001b[33m\u001b[33m\n",
      "Get:12 http://archive.ubuntu.com/ubuntu jammy/restricted amd64 Packages [164 kB]\n",
      "Get:13 http://archive.ubuntu.com/ubuntu jammy-updates/multiverse amd64 Packages [51.5 kB]\n",
      "Get:14 http://archive.ubuntu.com/ubuntu jammy-updates/universe amd64 Packages [1391 kB]\n",
      "Get:15 http://archive.ubuntu.com/ubuntu jammy-updates/main amd64 Packages [2183 kB]\n",
      "Get:16 http://archive.ubuntu.com/ubuntu jammy-updates/restricted amd64 Packages [2542 kB]\n",
      "Get:17 http://archive.ubuntu.com/ubuntu jammy-backports/universe amd64 Packages [31.8 kB]\n",
      "Get:18 http://archive.ubuntu.com/ubuntu jammy-backports/main amd64 Packages [81.0 kB]\n",
      "Fetched 32.1 MB in 2s (13.6 MB/s)33m                        \u001b[0m\u001b[33m\u001b[33m\u001b[33m\u001b[33m\u001b[33m\u001b[33m\u001b[33m\n",
      "Reading package lists... Done\n",
      "Building dependency tree... Done\n",
      "Reading state information... Done\n",
      "28 packages can be upgraded. Run 'apt list --upgradable' to see them.\n",
      "Reading package lists... Done\n",
      "Building dependency tree... Done\n",
      "Reading state information... Done\n",
      "portaudio19-dev is already the newest version (19.6.0-1.1).\n",
      "0 upgraded, 0 newly installed, 0 to remove and 28 not upgraded.\n"
     ]
    }
   ],
   "source": [
    "! apt update && apt install -y portaudio19-dev && apt-get clean && rm -rf /var/lib/apt/lists/*"
   ]
  },
  {
   "cell_type": "code",
   "execution_count": 3,
   "id": "60bd5913-79eb-4041-bec4-cd8fc1a198b1",
   "metadata": {},
   "outputs": [
    {
     "name": "stdout",
     "output_type": "stream",
     "text": [
      "Requirement already satisfied: pip>=24 in /opt/conda/lib/python3.10/site-packages (24.0)\n",
      "\u001b[33mWARNING: Running pip as the 'root' user can result in broken permissions and conflicting behaviour with the system package manager. It is recommended to use a virtual environment instead: https://pip.pypa.io/warnings/venv\u001b[0m\u001b[33m\n",
      "\u001b[0m"
     ]
    }
   ],
   "source": [
    "! pip install --no-cache-dir -U \"pip>=24\""
   ]
  },
  {
   "cell_type": "code",
   "execution_count": 4,
   "id": "26122f67-a8e4-4d32-a01a-590a6a2938b1",
   "metadata": {},
   "outputs": [],
   "source": [
    "#! mkdir /app\n",
    "! cp WhisperLive/requirements/server.txt .\n",
    "! cp -R WhisperLive/whisper_live/ .\n",
    "! cp WhisperLive/run_server.py .\n",
    "#! cd /app"
   ]
  },
  {
   "cell_type": "raw",
   "id": "8a5c9a4a-b270-4607-a18b-84e17cf0a378",
   "metadata": {},
   "source": [
    "! pip install --no-cache-dir -r server.txt && rm server.txt"
   ]
  },
  {
   "cell_type": "code",
   "execution_count": 8,
   "id": "90a80eac-4156-44cc-8023-51442a6a7d88",
   "metadata": {},
   "outputs": [
    {
     "name": "stdout",
     "output_type": "stream",
     "text": [
      "/bin/bash: line 1: modprobe: command not found\n"
     ]
    }
   ],
   "source": [
    "#! modprobe nvidia"
   ]
  },
  {
   "cell_type": "code",
   "execution_count": 9,
   "id": "bafff86c-8887-477e-a6d6-1dbf2a72df3b",
   "metadata": {},
   "outputs": [
    {
     "name": "stdout",
     "output_type": "stream",
     "text": [
      "Traceback (most recent call last):\n",
      "  File \"<string>\", line 1, in <module>\n",
      "ModuleNotFoundError: No module named 'nvidia'\n"
     ]
    }
   ],
   "source": [
    "! export LD_LIBRARY_PATH=`python3 -c 'import os; import nvidia.cublas.lib; import nvidia.cudnn.lib; print(os.path.dirname(nvidia.cublas.lib.__file__) + \":\" + os.path.dirname(nvidia.cudnn.lib.__file__))'`"
   ]
  },
  {
   "cell_type": "code",
   "execution_count": 10,
   "id": "25ce0872-a17f-4a3f-b082-f20b308aa479",
   "metadata": {},
   "outputs": [],
   "source": [
    "! export ENV LD_LIBRARY_PATH=\"/usr/local/lib/python3.10/site-packages/nvidia/cublas/lib:/usr/local/lib/python3.10/site-packages/nvidia/cudnn/lib\""
   ]
  },
  {
   "cell_type": "code",
   "execution_count": 1,
   "id": "d2a2bbb6-e6f6-43c0-8e4d-caa8547e4317",
   "metadata": {},
   "outputs": [],
   "source": [
    "import subprocess\n",
    "\n",
    "with open('nohup.out', 'w') as out:\n",
    "    subprocess.Popen(['python', 'run_server.py'], stdout=out, stderr=out)\n"
   ]
  },
  {
   "cell_type": "code",
   "execution_count": null,
   "id": "fd674681-79cf-4bb6-aa93-7338f2dc1770",
   "metadata": {},
   "outputs": [],
   "source": []
  }
 ],
 "metadata": {
  "kernelspec": {
   "display_name": "Python 3 (ipykernel)",
   "language": "python",
   "name": "python3"
  },
  "language_info": {
   "codemirror_mode": {
    "name": "ipython",
    "version": 3
   },
   "file_extension": ".py",
   "mimetype": "text/x-python",
   "name": "python",
   "nbconvert_exporter": "python",
   "pygments_lexer": "ipython3",
   "version": "3.10.13"
  }
 },
 "nbformat": 4,
 "nbformat_minor": 5
}
